{
 "cells": [
  {
   "cell_type": "code",
   "execution_count": null,
   "id": "ecb5e702-e57c-446f-b63e-00e6506b9f7b",
   "metadata": {},
   "outputs": [],
   "source": [
    "!pip install numpy\n",
    "!pip install seaborn\n",
    "!pip install matplotlib\n",
    "!pip install scikit-learn\n",
    "\n",
    "!pip install spacy\n",
    "!pip install pandas\n",
    "\n",
    "# Download the spaCy model\n",
    "!python -m spacy download en_core_web_sm"
   ]
  },
  {
   "cell_type": "code",
   "execution_count": 79,
   "id": "6c1a74ac-da82-4f63-a6b7-0f8aa5897bfd",
   "metadata": {},
   "outputs": [],
   "source": [
    "#Importing Libraries\n",
    "import numpy as np\n",
    "import pandas as pd"
   ]
  },
  {
   "cell_type": "code",
   "execution_count": 80,
   "id": "c361506d-b83b-46a8-a6bc-2d6f6dc9ce4f",
   "metadata": {},
   "outputs": [],
   "source": [
    "data = pd.read_csv('dataset/2022.csv')\n",
    "df = pd.DataFrame(data)"
   ]
  },
  {
   "cell_type": "code",
   "execution_count": 81,
   "id": "f9621f5b-daf0-4bed-ab9e-add30be94b79",
   "metadata": {},
   "outputs": [
    {
     "data": {
      "text/html": [
       "<div>\n",
       "<style scoped>\n",
       "    .dataframe tbody tr th:only-of-type {\n",
       "        vertical-align: middle;\n",
       "    }\n",
       "\n",
       "    .dataframe tbody tr th {\n",
       "        vertical-align: top;\n",
       "    }\n",
       "\n",
       "    .dataframe thead th {\n",
       "        text-align: right;\n",
       "    }\n",
       "</style>\n",
       "<table border=\"1\" class=\"dataframe\">\n",
       "  <thead>\n",
       "    <tr style=\"text-align: right;\">\n",
       "      <th></th>\n",
       "      <th>Date</th>\n",
       "      <th>ProductName</th>\n",
       "      <th>TagLine</th>\n",
       "      <th>Topic</th>\n",
       "      <th>Comments</th>\n",
       "      <th>Upvotes</th>\n",
       "      <th>ShortUrl</th>\n",
       "      <th>PricingType</th>\n",
       "    </tr>\n",
       "  </thead>\n",
       "  <tbody>\n",
       "    <tr>\n",
       "      <th>0</th>\n",
       "      <td>2022-01-01</td>\n",
       "      <td>World Explorer by Insured Nomads</td>\n",
       "      <td>Insurance meets travel tech for the global wor...</td>\n",
       "      <td>Global Nomad</td>\n",
       "      <td>84</td>\n",
       "      <td>388</td>\n",
       "      <td>https://www.producthunt.com/r/p/325054</td>\n",
       "      <td>NaN</td>\n",
       "    </tr>\n",
       "    <tr>\n",
       "      <th>1</th>\n",
       "      <td>2022-01-01</td>\n",
       "      <td>Tailwind Box Shadows</td>\n",
       "      <td>Curated list of box shadows for your cards to ...</td>\n",
       "      <td>Productivity</td>\n",
       "      <td>25</td>\n",
       "      <td>201</td>\n",
       "      <td>https://www.producthunt.com/r/p/325075</td>\n",
       "      <td>Free</td>\n",
       "    </tr>\n",
       "    <tr>\n",
       "      <th>2</th>\n",
       "      <td>2022-01-01</td>\n",
       "      <td>24me Smart Personal Assistant</td>\n",
       "      <td>Keep new year's resolutions and get organized ...</td>\n",
       "      <td>Productivity</td>\n",
       "      <td>8</td>\n",
       "      <td>126</td>\n",
       "      <td>https://www.producthunt.com/r/p/325088</td>\n",
       "      <td>Free</td>\n",
       "    </tr>\n",
       "    <tr>\n",
       "      <th>3</th>\n",
       "      <td>2022-01-01</td>\n",
       "      <td>Habitify Challenge</td>\n",
       "      <td>Track &amp; build new habits with your friends in ...</td>\n",
       "      <td>Productivity</td>\n",
       "      <td>10</td>\n",
       "      <td>167</td>\n",
       "      <td>https://www.producthunt.com/r/p/325066</td>\n",
       "      <td>Free</td>\n",
       "    </tr>\n",
       "    <tr>\n",
       "      <th>4</th>\n",
       "      <td>2022-01-01</td>\n",
       "      <td>Sunflower iOS App</td>\n",
       "      <td>Rewire your brain to associate sobriety with r...</td>\n",
       "      <td>iOS</td>\n",
       "      <td>14</td>\n",
       "      <td>105</td>\n",
       "      <td>https://www.producthunt.com/r/p/324724</td>\n",
       "      <td>Free</td>\n",
       "    </tr>\n",
       "  </tbody>\n",
       "</table>\n",
       "</div>"
      ],
      "text/plain": [
       "         Date                       ProductName  \\\n",
       "0  2022-01-01  World Explorer by Insured Nomads   \n",
       "1  2022-01-01              Tailwind Box Shadows   \n",
       "2  2022-01-01     24me Smart Personal Assistant   \n",
       "3  2022-01-01                Habitify Challenge   \n",
       "4  2022-01-01                 Sunflower iOS App   \n",
       "\n",
       "                                             TagLine         Topic  Comments  \\\n",
       "0  Insurance meets travel tech for the global wor...  Global Nomad        84   \n",
       "1  Curated list of box shadows for your cards to ...  Productivity        25   \n",
       "2  Keep new year's resolutions and get organized ...  Productivity         8   \n",
       "3  Track & build new habits with your friends in ...  Productivity        10   \n",
       "4  Rewire your brain to associate sobriety with r...           iOS        14   \n",
       "\n",
       "  Upvotes                                ShortUrl PricingType  \n",
       "0     388  https://www.producthunt.com/r/p/325054         NaN  \n",
       "1     201  https://www.producthunt.com/r/p/325075        Free  \n",
       "2     126  https://www.producthunt.com/r/p/325088        Free  \n",
       "3     167  https://www.producthunt.com/r/p/325066        Free  \n",
       "4     105  https://www.producthunt.com/r/p/324724        Free  "
      ]
     },
     "execution_count": 81,
     "metadata": {},
     "output_type": "execute_result"
    }
   ],
   "source": [
    "df.head()"
   ]
  },
  {
   "cell_type": "markdown",
   "id": "520fe9d4-3e3e-41af-a9cb-a953e3137e57",
   "metadata": {},
   "source": [
    "# Preprocessing & Exploratory Data Analysis (EDA)"
   ]
  },
  {
   "cell_type": "code",
   "execution_count": 82,
   "id": "6faafca7-5d66-4c41-a379-0295614d6512",
   "metadata": {},
   "outputs": [
    {
     "data": {
      "text/plain": [
       "(10661, 8)"
      ]
     },
     "execution_count": 82,
     "metadata": {},
     "output_type": "execute_result"
    }
   ],
   "source": [
    "df.shape"
   ]
  },
  {
   "cell_type": "code",
   "execution_count": 83,
   "id": "86493cea-dbce-4cf8-a68c-a3999914acf5",
   "metadata": {},
   "outputs": [
    {
     "data": {
      "text/plain": [
       "Date             0\n",
       "ProductName      0\n",
       "TagLine          0\n",
       "Topic            0\n",
       "Comments         0\n",
       "Upvotes          0\n",
       "ShortUrl         0\n",
       "PricingType    153\n",
       "dtype: int64"
      ]
     },
     "execution_count": 83,
     "metadata": {},
     "output_type": "execute_result"
    }
   ],
   "source": [
    "df.isnull().sum()"
   ]
  },
  {
   "cell_type": "code",
   "execution_count": 84,
   "id": "dff1ebb1-433d-46c0-9e81-dd87a078c27a",
   "metadata": {},
   "outputs": [],
   "source": [
    "df = df.drop(columns=['PricingType', 'ShortUrl'])"
   ]
  },
  {
   "cell_type": "code",
   "execution_count": 85,
   "id": "cb3d6a6f-1134-46c5-9f67-547c404a0c16",
   "metadata": {
    "scrolled": true
   },
   "outputs": [
    {
     "data": {
      "text/html": [
       "<div>\n",
       "<style scoped>\n",
       "    .dataframe tbody tr th:only-of-type {\n",
       "        vertical-align: middle;\n",
       "    }\n",
       "\n",
       "    .dataframe tbody tr th {\n",
       "        vertical-align: top;\n",
       "    }\n",
       "\n",
       "    .dataframe thead th {\n",
       "        text-align: right;\n",
       "    }\n",
       "</style>\n",
       "<table border=\"1\" class=\"dataframe\">\n",
       "  <thead>\n",
       "    <tr style=\"text-align: right;\">\n",
       "      <th></th>\n",
       "      <th>Date</th>\n",
       "      <th>ProductName</th>\n",
       "      <th>TagLine</th>\n",
       "      <th>Topic</th>\n",
       "      <th>Comments</th>\n",
       "      <th>Upvotes</th>\n",
       "    </tr>\n",
       "  </thead>\n",
       "  <tbody>\n",
       "    <tr>\n",
       "      <th>0</th>\n",
       "      <td>2022-01-01</td>\n",
       "      <td>World Explorer by Insured Nomads</td>\n",
       "      <td>Insurance meets travel tech for the global wor...</td>\n",
       "      <td>Global Nomad</td>\n",
       "      <td>84</td>\n",
       "      <td>388</td>\n",
       "    </tr>\n",
       "    <tr>\n",
       "      <th>1</th>\n",
       "      <td>2022-01-01</td>\n",
       "      <td>Tailwind Box Shadows</td>\n",
       "      <td>Curated list of box shadows for your cards to ...</td>\n",
       "      <td>Productivity</td>\n",
       "      <td>25</td>\n",
       "      <td>201</td>\n",
       "    </tr>\n",
       "    <tr>\n",
       "      <th>2</th>\n",
       "      <td>2022-01-01</td>\n",
       "      <td>24me Smart Personal Assistant</td>\n",
       "      <td>Keep new year's resolutions and get organized ...</td>\n",
       "      <td>Productivity</td>\n",
       "      <td>8</td>\n",
       "      <td>126</td>\n",
       "    </tr>\n",
       "    <tr>\n",
       "      <th>3</th>\n",
       "      <td>2022-01-01</td>\n",
       "      <td>Habitify Challenge</td>\n",
       "      <td>Track &amp; build new habits with your friends in ...</td>\n",
       "      <td>Productivity</td>\n",
       "      <td>10</td>\n",
       "      <td>167</td>\n",
       "    </tr>\n",
       "    <tr>\n",
       "      <th>4</th>\n",
       "      <td>2022-01-01</td>\n",
       "      <td>Sunflower iOS App</td>\n",
       "      <td>Rewire your brain to associate sobriety with r...</td>\n",
       "      <td>iOS</td>\n",
       "      <td>14</td>\n",
       "      <td>105</td>\n",
       "    </tr>\n",
       "    <tr>\n",
       "      <th>...</th>\n",
       "      <td>...</td>\n",
       "      <td>...</td>\n",
       "      <td>...</td>\n",
       "      <td>...</td>\n",
       "      <td>...</td>\n",
       "      <td>...</td>\n",
       "    </tr>\n",
       "    <tr>\n",
       "      <th>10656</th>\n",
       "      <td>2022-12-31</td>\n",
       "      <td>Cloud Rebels</td>\n",
       "      <td>IT has never been easier</td>\n",
       "      <td>Tech</td>\n",
       "      <td>1</td>\n",
       "      <td>25</td>\n",
       "    </tr>\n",
       "    <tr>\n",
       "      <th>10657</th>\n",
       "      <td>2022-12-31</td>\n",
       "      <td>SuenaGringo AI</td>\n",
       "      <td>Helps Spanish immigrants write natural &amp; engag...</td>\n",
       "      <td>Productivity</td>\n",
       "      <td>5</td>\n",
       "      <td>24</td>\n",
       "    </tr>\n",
       "    <tr>\n",
       "      <th>10658</th>\n",
       "      <td>2022-12-31</td>\n",
       "      <td>Gmax CRM Open Source</td>\n",
       "      <td>Gmax CRM is an open source invoicing software</td>\n",
       "      <td>Productivity</td>\n",
       "      <td>1</td>\n",
       "      <td>23</td>\n",
       "    </tr>\n",
       "    <tr>\n",
       "      <th>10659</th>\n",
       "      <td>2022-12-31</td>\n",
       "      <td>Grocery Delivery App Development</td>\n",
       "      <td>SpotnEats developing customized apps for you</td>\n",
       "      <td>Productivity</td>\n",
       "      <td>2</td>\n",
       "      <td>18</td>\n",
       "    </tr>\n",
       "    <tr>\n",
       "      <th>10660</th>\n",
       "      <td>2022-12-31</td>\n",
       "      <td>ABV Calc</td>\n",
       "      <td>Calculate your drink’s ABV with this handy cal...</td>\n",
       "      <td>Spreadsheets</td>\n",
       "      <td>1</td>\n",
       "      <td>17</td>\n",
       "    </tr>\n",
       "  </tbody>\n",
       "</table>\n",
       "<p>10661 rows × 6 columns</p>\n",
       "</div>"
      ],
      "text/plain": [
       "             Date                       ProductName  \\\n",
       "0      2022-01-01  World Explorer by Insured Nomads   \n",
       "1      2022-01-01              Tailwind Box Shadows   \n",
       "2      2022-01-01     24me Smart Personal Assistant   \n",
       "3      2022-01-01                Habitify Challenge   \n",
       "4      2022-01-01                 Sunflower iOS App   \n",
       "...           ...                               ...   \n",
       "10656  2022-12-31                      Cloud Rebels   \n",
       "10657  2022-12-31                    SuenaGringo AI   \n",
       "10658  2022-12-31              Gmax CRM Open Source   \n",
       "10659  2022-12-31  Grocery Delivery App Development   \n",
       "10660  2022-12-31                          ABV Calc   \n",
       "\n",
       "                                                 TagLine         Topic  \\\n",
       "0      Insurance meets travel tech for the global wor...  Global Nomad   \n",
       "1      Curated list of box shadows for your cards to ...  Productivity   \n",
       "2      Keep new year's resolutions and get organized ...  Productivity   \n",
       "3      Track & build new habits with your friends in ...  Productivity   \n",
       "4      Rewire your brain to associate sobriety with r...           iOS   \n",
       "...                                                  ...           ...   \n",
       "10656                           IT has never been easier          Tech   \n",
       "10657  Helps Spanish immigrants write natural & engag...  Productivity   \n",
       "10658      Gmax CRM is an open source invoicing software  Productivity   \n",
       "10659       SpotnEats developing customized apps for you  Productivity   \n",
       "10660  Calculate your drink’s ABV with this handy cal...  Spreadsheets   \n",
       "\n",
       "       Comments Upvotes  \n",
       "0            84     388  \n",
       "1            25     201  \n",
       "2             8     126  \n",
       "3            10     167  \n",
       "4            14     105  \n",
       "...         ...     ...  \n",
       "10656         1      25  \n",
       "10657         5      24  \n",
       "10658         1      23  \n",
       "10659         2      18  \n",
       "10660         1      17  \n",
       "\n",
       "[10661 rows x 6 columns]"
      ]
     },
     "execution_count": 85,
     "metadata": {},
     "output_type": "execute_result"
    }
   ],
   "source": [
    "df"
   ]
  },
  {
   "cell_type": "code",
   "execution_count": 86,
   "id": "8712c8a4-1837-403b-8fd4-b1544245349f",
   "metadata": {},
   "outputs": [
    {
     "name": "stdout",
     "output_type": "stream",
     "text": [
      "Number of unique products: 10544\n",
      "Number of unique topics: 258\n"
     ]
    }
   ],
   "source": [
    "num_products = df['ProductName'].nunique()\n",
    "num_topic = df['Topic'].nunique()\n",
    "print(f\"Number of unique products: {num_products}\")\n",
    "print(f\"Number of unique topics: {num_topic}\")"
   ]
  },
  {
   "cell_type": "code",
   "execution_count": 87,
   "id": "d8215474-440b-4d56-9885-01bea3e25f99",
   "metadata": {},
   "outputs": [
    {
     "data": {
      "text/plain": [
       "Date           object\n",
       "ProductName    object\n",
       "TagLine        object\n",
       "Topic          object\n",
       "Comments        int64\n",
       "Upvotes        object\n",
       "dtype: object"
      ]
     },
     "execution_count": 87,
     "metadata": {},
     "output_type": "execute_result"
    }
   ],
   "source": [
    "df.dtypes"
   ]
  },
  {
   "cell_type": "code",
   "execution_count": 88,
   "id": "844de26a-4161-424c-bb99-7376b9f8541f",
   "metadata": {},
   "outputs": [
    {
     "data": {
      "image/png": "[encoded data removed]",
      "text/plain": [
       "<Figure size 640x480 with 2 Axes>"
      ]
     },
     "metadata": {},
     "output_type": "display_data"
    }
   ],
   "source": [
    "import seaborn as sns\n",
    "import pandas as pd\n",
    "import matplotlib.pyplot as plt\n",
    "from sklearn.preprocessing import LabelEncoder\n",
    "\n",
    "# Convert 'Upvotes' to numeric (if necessary)\n",
    "df['Upvotes'] = pd.to_numeric(df['Upvotes'], errors='coerce')\n",
    "\n",
    "# Encode 'Topic' using LabelEncoder\n",
    "label_encoder = LabelEncoder()\n",
    "df['Topic_encoded'] = label_encoder.fit_transform(df['Topic'])\n",
    "\n",
    "# Select numeric columns including the encoded 'Topic'\n",
    "numeric_df = df.select_dtypes(include=['float64', 'int64', 'int32'])\n",
    "\n",
    "# Compute the correlation matrix\n",
    "correlation_matrix = numeric_df.corr()\n",
    "\n",
    "# Create a heatmap\n",
    "sns.heatmap(correlation_matrix, annot=True, cmap='coolwarm')\n",
    "\n",
    "# Show the plot\n",
    "plt.show()"
   ]
  },
  {
   "cell_type": "code",
   "execution_count": 89,
   "id": "00885300-bea9-4594-8acf-77e160ae2102",
   "metadata": {},
   "outputs": [],
   "source": [
    "import spacy\n",
    "from spacy.lang.en.stop_words import STOP_WORDS\n",
    "\n",
    "# Load the spacy model\n",
    "nlp = spacy.load(\"en_core_web_sm\")\n",
    "\n",
    "def extract_tags(text):\n",
    "    doc = nlp(text.lower())\n",
    "    tags = [token.text for token in doc if token.text.isalnum() and token.text not in STOP_WORDS]\n",
    "    return ', '.join(tags)\n",
    "\n",
    "df['Tags'] = df['TagLine'].apply(extract_tags)\n",
    "\n"
   ]
  },
  {
   "cell_type": "code",
   "execution_count": 90,
   "id": "95687617-7a0b-4e58-b100-90b8511a314c",
   "metadata": {},
   "outputs": [],
   "source": [
    "# Rating Based recommendation\n",
    "# Calculate rating\n",
    "df['Rating'] = df['Upvotes'] + 0.5 * df['Comments']"
   ]
  },
  {
   "cell_type": "code",
   "execution_count": 91,
   "id": "4346ed04-1613-49a7-9065-1957e6a4f26e",
   "metadata": {},
   "outputs": [],
   "source": [
    "def get_top_rated_items(df, topic, top_n=3):\n",
    "    # Group by 'ProductName', 'TagLine', and 'Topic', then calculate the mean rating\n",
    "    average_rating = df.groupby(['ProductName', 'TagLine', 'Topic'])['Rating'].mean().reset_index()\n",
    "    \n",
    "    # Filter the DataFrame by the specified topic\n",
    "    filtered_df = average_rating[average_rating['Topic'] == topic]\n",
    "    \n",
    "    # Sort the filtered DataFrame by rating in descending order\n",
    "    sorted_df = filtered_df.sort_values(by='Rating', ascending=False)\n",
    "    \n",
    "    # Return the top N items\n",
    "    return sorted_df.head(top_n)\n",
    "\n",
    "# Example usage:\n",
    "# top_items = get_top_rated_items(df, 'iOS')\n",
    "# print(top_items)"
   ]
  },
  {
   "cell_type": "code",
   "execution_count": 124,
   "id": "6df6b024-7abc-4c29-8bbe-f6aacbecda8a",
   "metadata": {},
   "outputs": [],
   "source": [
    "# Content Based recommendation\n",
    "from sklearn.feature_extraction.text import TfidfVectorizer\n",
    "from sklearn.metrics.pairwise import cosine_similarity\n",
    "\n",
    "class ProductRecommender:\n",
    "    def __init__(self, df):\n",
    "        self.df = df\n",
    "        self.tfidf_matrix, self.cosine_similarities = self._compute_similarities()\n",
    "\n",
    "    def _compute_similarities(self):\n",
    "        # Concatenate relevant columns into a single text column for TF-IDF vectorization\n",
    "        self.df['combined_text'] = (self.df['Date'].astype(str) + ' ' +\n",
    "                                    self.df['ProductName'] + ' ' +\n",
    "                                    self.df['TagLine'] + ' ' +\n",
    "                                    self.df['Topic'] + ' ' +\n",
    "                                    self.df['Tags'])\n",
    "\n",
    "        # TF-IDF vectorization\n",
    "        tfidf_vectorizer = TfidfVectorizer(stop_words='english')\n",
    "        tfidf_matrix = tfidf_vectorizer.fit_transform(self.df['combined_text'])\n",
    "\n",
    "        # Compute cosine similarities\n",
    "        cosine_similarities = cosine_similarity(tfidf_matrix, tfidf_matrix)\n",
    "\n",
    "        return tfidf_matrix, cosine_similarities\n",
    "\n",
    "    def recommend_similar_products(self, product_name, top_n=10):\n",
    "        # Check if the product name exists in the DataFrame\n",
    "        if product_name not in self.df['ProductName'].values:\n",
    "            return f\"Product '{product_name}' not found in the DataFrame.\"\n",
    "\n",
    "        # Find the product index for the given product name\n",
    "        product_index = self.df[self.df['ProductName'] == product_name].index[0]\n",
    "\n",
    "        # Get top similar products\n",
    "        similar_products = sorted(list(enumerate(self.cosine_similarities[product_index])),\n",
    "                                  key=lambda x: x[1], reverse=True)\n",
    "        top_similar_products = similar_products[1:top_n+1]  # Exclude the product itself\n",
    "        recommend_products_index = [x[0] for x in top_similar_products]\n",
    "\n",
    "        return self.df.iloc[recommend_products_index][['ProductName', 'Topic']]\n",
    "\n",
    "# Initialize the recommender system\n",
    "recommender = ProductRecommender(df)"
   ]
  },
  {
   "cell_type": "code",
   "execution_count": 125,
   "id": "e1ccb080-2f04-4639-bb57-35a0b41505c7",
   "metadata": {},
   "outputs": [
    {
     "name": "stdout",
     "output_type": "stream",
     "text": [
      "                   ProductName            Topic\n",
      "4547          Gradient Shadows  Developer Tools\n",
      "195                 AddShadows     Design Tools\n",
      "808    Mystery Box - Evolution          Android\n",
      "1630                 DevAssets     Productivity\n",
      "7887             Bored Box B64            Games\n",
      "10650   AI Radar for Marketing     Productivity\n",
      "6532          Keyframes.app v2  Developer Tools\n",
      "4193              Stand Up Log     Productivity\n",
      "10449                 gpt-List     Productivity\n",
      "4669     Notion Resources List     Productivity\n"
     ]
    }
   ],
   "source": [
    "# Example usage\n",
    "product_name = 'Tailwind Box Shadows'\n",
    "top_similar_products = recommender.recommend_similar_products(product_name)\n",
    "print(top_similar_products)"
   ]
  },
  {
   "cell_type": "code",
   "execution_count": null,
   "id": "93697e6d-287d-4e13-bbd5-3c6bcc5206d9",
   "metadata": {},
   "outputs": [],
   "source": []
  }
 ],
 "metadata": {
  "kernelspec": {
   "display_name": "Python 3 (ipykernel)",
   "language": "python",
   "name": "python3"
  },
  "language_info": {
   "codemirror_mode": {
    "name": "ipython",
    "version": 3
   },
   "file_extension": ".py",
   "mimetype": "text/x-python",
   "name": "python",
   "nbconvert_exporter": "python",
   "pygments_lexer": "ipython3",
   "version": "3.12.4"
  }
 },
 "nbformat": 4,
 "nbformat_minor": 5
}
